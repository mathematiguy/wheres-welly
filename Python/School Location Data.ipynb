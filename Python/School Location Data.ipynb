{
 "cells": [
  {
   "cell_type": "markdown",
   "metadata": {},
   "source": [
    "# School Location Data"
   ]
  },
  {
   "cell_type": "markdown",
   "metadata": {},
   "source": [
    "Here I'll be manipulating some of the school location data we have found."
   ]
  },
  {
   "cell_type": "code",
   "execution_count": 2,
   "metadata": {
    "collapsed": true
   },
   "outputs": [],
   "source": [
    "import pandas as pd\n",
    "import numpy as np\n",
    "import matplotlib\n",
    "import matplotlib.pyplot as plt\n",
    "import seaborn\n",
    "% matplotlib inline\n",
    "seaborn.set()"
   ]
  },
  {
   "cell_type": "code",
   "execution_count": 3,
   "metadata": {
    "collapsed": true
   },
   "outputs": [],
   "source": [
    "school_data = pd.read_csv(\"../data/Directory-School-current.csv\")"
   ]
  },
  {
   "cell_type": "code",
   "execution_count": 8,
   "metadata": {
    "collapsed": false
   },
   "outputs": [
    {
     "data": {
      "text/plain": [
       "Index(['School ID', 'Name', 'Telephone', 'Fax', 'Email^', 'Principal*',\n",
       "       'School website', 'Street', 'Suburb', 'City', 'Postal Address 1',\n",
       "       'Postal Address 2', 'Postal Address 3', 'Postal Code', 'Urban Area',\n",
       "       'School Type', 'Definition', 'Authority', 'Gender of Students',\n",
       "       'Territorial Authority with Auckland Local Board', 'Regional Council',\n",
       "       'Ministry of Education Local Office', 'Education Region',\n",
       "       'General Electorate', 'Maori Electorate', 'Census Area Unit', 'Ward',\n",
       "       'Community of Learning: ID', 'Community of Learning: Name',\n",
       "       'Longitude ', 'Latitude', 'Decile', 'Total School Roll',\n",
       "       'European/ Pakeha', 'Maori', 'Pasifika', 'Asian', 'MELAA', 'Other',\n",
       "       'International Students'],\n",
       "      dtype='object')"
      ]
     },
     "execution_count": 8,
     "metadata": {},
     "output_type": "execute_result"
    }
   ],
   "source": [
    "school_data.columns"
   ]
  },
  {
   "cell_type": "code",
   "execution_count": 12,
   "metadata": {
    "collapsed": false
   },
   "outputs": [],
   "source": [
    "school_data.ix[:, ['Name', 'Longitude ', 'Latitude']].to_csv('../data/school_data.csv')"
   ]
  },
  {
   "cell_type": "code",
   "execution_count": 25,
   "metadata": {
    "collapsed": false
   },
   "outputs": [],
   "source": [
    "school_data.ix[:, ['Name', 'Longitude ', 'Latitude']]\\\n",
    "    .apply(lambda x: ~np.any(x.isnull()), axis = 1)\\\n",
    "    .pipe(lambda x: school_data.ix[x, ['Name', 'Longitude ', 'Latitude']])\\\n",
    "    .to_csv('../data/school_data.csv', index = False)"
   ]
  },
  {
   "cell_type": "code",
   "execution_count": 18,
   "metadata": {
    "collapsed": true
   },
   "outputs": [],
   "source": [
    "school_data.apply?"
   ]
  }
 ],
 "metadata": {
  "kernelspec": {
   "display_name": "Python 3",
   "language": "python",
   "name": "python3"
  },
  "language_info": {
   "codemirror_mode": {
    "name": "ipython",
    "version": 3
   },
   "file_extension": ".py",
   "mimetype": "text/x-python",
   "name": "python",
   "nbconvert_exporter": "python",
   "pygments_lexer": "ipython3",
   "version": "3.6.0"
  }
 },
 "nbformat": 4,
 "nbformat_minor": 2
}
