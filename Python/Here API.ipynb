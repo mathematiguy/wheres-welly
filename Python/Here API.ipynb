{
 "cells": [
  {
   "cell_type": "markdown",
   "metadata": {},
   "source": [
    "# HERE API"
   ]
  },
  {
   "cell_type": "markdown",
   "metadata": {},
   "source": [
    "Here I'll be trying to access the Here API in Python."
   ]
  },
  {
   "cell_type": "code",
   "execution_count": 2,
   "metadata": {},
   "outputs": [
    {
     "name": "stdout",
     "output_type": "stream",
     "text": [
      "get_token.py - provides an Auth token (valid for 1 hour)\n",
      "usage: get_token.py username\n",
      "········\n"
     ]
    },
    {
     "ename": "UnboundLocalError",
     "evalue": "local variable 'response' referenced before assignment",
     "output_type": "error",
     "traceback": [
      "\u001b[1;31m---------------------------------------------------------------------------\u001b[0m",
      "\u001b[1;31mUnboundLocalError\u001b[0m                         Traceback (most recent call last)",
      "\u001b[1;32m<ipython-input-2-097c48eee525>\u001b[0m in \u001b[0;36m<module>\u001b[1;34m()\u001b[0m\n\u001b[0;32m     57\u001b[0m \u001b[0muser_name\u001b[0m \u001b[1;33m=\u001b[0m \u001b[0msys\u001b[0m\u001b[1;33m.\u001b[0m\u001b[0margv\u001b[0m\u001b[1;33m[\u001b[0m\u001b[1;36m1\u001b[0m\u001b[1;33m]\u001b[0m\u001b[1;33m\u001b[0m\u001b[0m\n\u001b[0;32m     58\u001b[0m \u001b[0mpassword\u001b[0m \u001b[1;33m=\u001b[0m \u001b[0mgetpass\u001b[0m\u001b[1;33m.\u001b[0m\u001b[0mgetpass\u001b[0m\u001b[1;33m(\u001b[0m\u001b[1;33m)\u001b[0m\u001b[1;33m\u001b[0m\u001b[0m\n\u001b[1;32m---> 59\u001b[1;33m \u001b[0maccess_token\u001b[0m \u001b[1;33m=\u001b[0m \u001b[0mget_access_token\u001b[0m\u001b[1;33m(\u001b[0m\u001b[0muser_name\u001b[0m\u001b[1;33m,\u001b[0m \u001b[0mpassword\u001b[0m\u001b[1;33m,\u001b[0m \u001b[0mapp_id\u001b[0m\u001b[1;33m,\u001b[0m \u001b[0mapp_code\u001b[0m\u001b[1;33m)\u001b[0m\u001b[1;33m\u001b[0m\u001b[0m\n\u001b[0m\u001b[0;32m     60\u001b[0m \u001b[1;32mif\u001b[0m \u001b[0maccess_token\u001b[0m\u001b[1;33m:\u001b[0m\u001b[1;33m\u001b[0m\u001b[0m\n\u001b[0;32m     61\u001b[0m     \u001b[1;32mprint\u001b[0m \u001b[0mget_datasets\u001b[0m\u001b[1;33m(\u001b[0m\u001b[0maccess_token\u001b[0m\u001b[1;33m,\u001b[0m \u001b[0mapp_id\u001b[0m\u001b[1;33m,\u001b[0m \u001b[0mapp_code\u001b[0m\u001b[1;33m)\u001b[0m\u001b[1;33m\u001b[0m\u001b[0m\n",
      "\u001b[1;32m<ipython-input-2-097c48eee525>\u001b[0m in \u001b[0;36mget_access_token\u001b[1;34m(user_name, password, app_id, app_code)\u001b[0m\n\u001b[0;32m     25\u001b[0m     \u001b[1;32mif\u001b[0m \u001b[0mr\u001b[0m\u001b[1;33m.\u001b[0m\u001b[0mstatus_code\u001b[0m \u001b[1;33m==\u001b[0m \u001b[1;36m200\u001b[0m\u001b[1;33m:\u001b[0m\u001b[1;33m\u001b[0m\u001b[0m\n\u001b[0;32m     26\u001b[0m         \u001b[0mresponse\u001b[0m \u001b[1;33m=\u001b[0m \u001b[0mr\u001b[0m\u001b[1;33m.\u001b[0m\u001b[0mjson\u001b[0m\u001b[1;33m(\u001b[0m\u001b[1;33m)\u001b[0m\u001b[1;33m\u001b[0m\u001b[0m\n\u001b[1;32m---> 27\u001b[1;33m     \u001b[1;32mreturn\u001b[0m \u001b[0mresponse\u001b[0m\u001b[1;33m[\u001b[0m\u001b[1;34m'access_token'\u001b[0m\u001b[1;33m]\u001b[0m\u001b[1;33m\u001b[0m\u001b[0m\n\u001b[0m\u001b[0;32m     28\u001b[0m \u001b[1;33m\u001b[0m\u001b[0m\n\u001b[0;32m     29\u001b[0m     \u001b[1;32mraise\u001b[0m \u001b[0mException\u001b[0m\u001b[1;33m(\u001b[0m\u001b[1;34m'Cannot get Data Lens access_token. Status code: %s '\u001b[0m \u001b[1;33m%\u001b[0m \u001b[0mr\u001b[0m\u001b[1;33m.\u001b[0m\u001b[0mstatus_code\u001b[0m\u001b[1;33m)\u001b[0m\u001b[1;33m\u001b[0m\u001b[0m\n",
      "\u001b[1;31mUnboundLocalError\u001b[0m: local variable 'response' referenced before assignment"
     ]
    }
   ],
   "source": [
    "import json\n",
    "import sys\n",
    "import getpass\n",
    "import requests\n",
    "\n",
    "app_id = '{Ri3XuznuO1KxP5HRSdj1}'\n",
    "app_code = '{qYlHGxozqUYD67mWrz5DiQ}'\n",
    "\n",
    "# This function obtains an access token.\n",
    "#\n",
    "# @param user_name User name associated with HERE Account\n",
    "# @param password Password associated with HERE Account\n",
    "# @param app_id The value of app_id\n",
    "# @param app_code The value of app_code\n",
    "#\n",
    "# @return A string containing the HERE access token\n",
    "\n",
    "def get_access_token(user_name, password, app_id, app_code):\n",
    "    url = 'https://datalens.api.here.com/v1/sign_in/?%s=%s&%s=%s' % ('app_id', app_id, 'app_code', app_code)\n",
    "    payload = json.dumps({'email': user_name, 'password': password})\n",
    "    r = requests.post(url,\n",
    "            headers={'Content-Type': 'application/json'},\n",
    "            data=payload)\n",
    "\n",
    "    if r.status_code == 200:\n",
    "        response = r.json()\n",
    "    return response['access_token']\n",
    "\n",
    "    raise Exception('Cannot get Data Lens access_token. Status code: %s ' % r.status_code)\n",
    "\n",
    "# This function runs a request to retrieve data sets.\n",
    "#\n",
    "# @param access_token The HERE access token\n",
    "# @param app_id The value of app_id\n",
    "# @param app_code The value of app_code\n",
    "#\n",
    "# @return A JSON string containing the retrieved data sets\n",
    "\n",
    "def get_datasets(acess_token, app_id, app_code):\n",
    "    url = 'https://datalens.api.here.com/v1/datasets/?%s=%s&%s=%s'% ('app_id', app_id, 'app_code', app_code)\n",
    "    r = requests.get(url,\n",
    "           headers={'Content-Type': 'text/plain',\n",
    "                'Authorization': 'Bearer %s' % access_token})\n",
    "    if r.status_code == 200:\n",
    "        return r.json()\n",
    "\n",
    "    raise Exception('Cannot get retrieve datasets: %s' % r.status_code)\n",
    "\n",
    "# The main function of the script expects two command line arguments:\n",
    "# the HERE Account user name and the HERE Account password. It uses\n",
    "# them, along with the application-specific app_id and app_code, to\n",
    "# obtain an access token and request datasets.\n",
    "\n",
    "print 'get_token.py - provides an Auth token (valid for 1 hour)'\n",
    "print 'usage: get_token.py username'\n",
    "\n",
    "user_name = sys.argv[1]\n",
    "password = getpass.getpass()\n",
    "access_token = get_access_token(user_name, password, app_id, app_code)\n",
    "if access_token:\n",
    "    print get_datasets(access_token, app_id, app_code)"
   ]
  }
 ],
 "metadata": {
  "kernelspec": {
   "display_name": "Python 2",
   "language": "python",
   "name": "python2"
  },
  "language_info": {
   "codemirror_mode": {
    "name": "ipython",
    "version": 2
   },
   "file_extension": ".py",
   "mimetype": "text/x-python",
   "name": "python",
   "nbconvert_exporter": "python",
   "pygments_lexer": "ipython2",
   "version": "2.7.13"
  }
 },
 "nbformat": 4,
 "nbformat_minor": 2
}
