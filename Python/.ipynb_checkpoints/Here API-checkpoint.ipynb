{
 "cells": [
  {
   "cell_type": "markdown",
   "metadata": {},
   "source": [
    "# HERE API"
   ]
  },
  {
   "cell_type": "markdown",
   "metadata": {},
   "source": [
    "Here I'll be trying to access the Here API in Python."
   ]
  },
  {
   "cell_type": "code",
   "execution_count": 1,
   "metadata": {
    "collapsed": true
   },
   "outputs": [],
   "source": [
    "import json\n",
    "import sys\n",
    "import getpass\n",
    "import requests\n",
    "\n",
    "app_id = '{YOUR_APP_ID}'\n",
    "app_code = '{YOUR_APP_CODE}'\n",
    "\n",
    "# This function obtains an access token.\n",
    "#\n",
    "# @param user_name User name associated with HERE Account\n",
    "# @param password Password associated with HERE Account\n",
    "# @param app_id The value of app_id\n",
    "# @param app_code The value of app_code\n",
    "#\n",
    "# @return A string containing the HERE access token\n",
    "\n",
    "def get_access_token(user_name, password, app_id, app_code):\n",
    "    url = 'https://datalens.api.here.com/v1/sign_in/?%s=%s&%s=%s' % ('app_id', app_id, 'app_code', app_code)\n",
    "    payload = json.dumps({'email': user_name, 'password': password})\n",
    "    r = requests.post(url,\n",
    "            headers={'Content-Type': 'application/json'},\n",
    "            data=payload)\n",
    "\n",
    "    if r.status_code == 200:\n",
    "        response = r.json()\n",
    "    return response['access_token']\n",
    "\n",
    "    raise Exception('Cannot get Data Lens access_token. Status code: %s ' % r.status_code)\n",
    "\n",
    "# This function runs a request to retrieve data sets.\n",
    "#\n",
    "# @param access_token The HERE access token\n",
    "# @param app_id The value of app_id\n",
    "# @param app_code The value of app_code\n",
    "#\n",
    "# @return A JSON string containing the retrieved data sets\n",
    "\n",
    "def get_datasets(acess_token, app_id, app_code):\n",
    "    url = 'https://datalens.api.here.com/v1/datasets/?%s=%s&%s=%s'% ('app_id', app_id, 'app_code', app_code)\n",
    "    r = requests.get(url,\n",
    "           headers={'Content-Type': 'text/plain',\n",
    "                'Authorization': 'Bearer %s' % access_token})\n",
    "    if r.status_code == 200:\n",
    "        return r.json()\n",
    "\n",
    "    raise Exception('Cannot get retrieve datasets: %s' % r.status_code)\n",
    "\n",
    "# The main function of the script expects two command line arguments:\n",
    "# the HERE Account user name and the HERE Account password. It uses\n",
    "# them, along with the application-specific app_id and app_code, to\n",
    "# obtain an access token and request datasets.\n",
    "\n",
    "if __name__ == '__main__':\n",
    "    if len(sys.argv) != 2:\n",
    "        print 'get_token.py - provides an Auth token (valid for 1 hour)'\n",
    "        print 'usage: get_token.py username'\n",
    "    sys.exit()\n",
    "    user_name = sys.argv[1]\n",
    "    password = getpass.getpass()\n",
    "    access_token = get_access_token(user_name, password, app_id, app_code)\n",
    "    if access_token:\n",
    "        print get_datasets(access_token, app_id, app_code)"
   ]
  }
 ],
 "metadata": {
  "kernelspec": {
   "display_name": "scrapy-env",
   "language": "python",
   "name": "scrapy-env"
  },
  "language_info": {
   "codemirror_mode": {
    "name": "ipython",
    "version": 3
   },
   "file_extension": ".py",
   "mimetype": "text/x-python",
   "name": "python",
   "nbconvert_exporter": "python",
   "pygments_lexer": "ipython3",
   "version": "3.6.0"
  }
 },
 "nbformat": 4,
 "nbformat_minor": 2
}
